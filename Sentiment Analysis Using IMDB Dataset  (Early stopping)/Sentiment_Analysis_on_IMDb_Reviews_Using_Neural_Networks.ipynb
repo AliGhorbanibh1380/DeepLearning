{
  "nbformat": 4,
  "nbformat_minor": 0,
  "metadata": {
    "colab": {
      "provenance": []
    },
    "kernelspec": {
      "name": "python3",
      "display_name": "Python 3"
    },
    "language_info": {
      "name": "python"
    }
  },
  "cells": [
    {
      "cell_type": "markdown",
      "source": [
        "#Sentiment Analysis on IMDb Reviews Using Neural Networks\n"
      ],
      "metadata": {
        "id": "QAzrGQWZYEXm"
      }
    },
    {
      "cell_type": "code",
      "source": [
        "# Sentiment Analysis with IMDB Dataset\n",
        "\n",
        "#In this notebook, we will perform sentiment analysis using the IMDB dataset. We will build a neural network model using Keras, train it, and evaluate its performance.\n",
        "\n",
        "## Import Necessary Libraries\n",
        "import numpy as np\n",
        "import matplotlib.pyplot as plt\n",
        "from keras.datasets import imdb\n",
        "from keras import models\n",
        "from keras import layers\n",
        "from keras.callbacks import EarlyStopping"
      ],
      "metadata": {
        "id": "sLcvLU7oZ25i"
      },
      "execution_count": null,
      "outputs": []
    },
    {
      "cell_type": "markdown",
      "source": [
        "#Load the IMDB Dataset\n",
        "We will load the IMDB dataset and limit it to the top 10,000 most frequently occurring words.\n"
      ],
      "metadata": {
        "id": "XEGW94GWZ7WD"
      }
    },
    {
      "cell_type": "code",
      "source": [
        "(train_data, train_labels), (test_data, test_labels) = imdb.load_data(num_words=10000)"
      ],
      "metadata": {
        "colab": {
          "base_uri": "https://localhost:8080/"
        },
        "id": "YRpgHcOnaAld",
        "outputId": "0b4fb164-de1b-4953-af8e-0f76551df66a"
      },
      "execution_count": null,
      "outputs": [
        {
          "output_type": "stream",
          "name": "stdout",
          "text": [
            "Downloading data from https://storage.googleapis.com/tensorflow/tf-keras-datasets/imdb.npz\n",
            "17464789/17464789 [==============================] - 0s 0us/step\n"
          ]
        }
      ]
    },
    {
      "cell_type": "markdown",
      "source": [
        "#Vectorization of Sequences\n",
        "Define a function to vectorize the sequences into a binary matrix."
      ],
      "metadata": {
        "id": "pp-c7X7FaCGs"
      }
    },
    {
      "cell_type": "code",
      "source": [
        "def vectorize_sequences(sequences, dimension=10000):\n",
        "    results = np.zeros((len(sequences), dimension))\n",
        "    for i, sequence in enumerate(sequences):\n",
        "        results[i, sequence] = 1.  # One-hot encoding\n",
        "    return results"
      ],
      "metadata": {
        "id": "W0VqiWmyaHWi"
      },
      "execution_count": null,
      "outputs": []
    },
    {
      "cell_type": "markdown",
      "source": [
        "#Prepare the Data\n",
        "Vectorize the training and test data and convert labels to numpy arrays."
      ],
      "metadata": {
        "id": "0fQLxLG9aKqb"
      }
    },
    {
      "cell_type": "code",
      "source": [
        "x_train = vectorize_sequences(train_data)\n",
        "x_test = vectorize_sequences(test_data)\n",
        "\n",
        "y_train = np.asarray(train_labels).astype('float32')\n",
        "y_test = np.asarray(test_labels).astype('float32')"
      ],
      "metadata": {
        "id": "GLAhb7Y0aJxS"
      },
      "execution_count": null,
      "outputs": []
    },
    {
      "cell_type": "markdown",
      "source": [
        "#Define the Model Architecture\n",
        "We will define a simple neural network with Keras."
      ],
      "metadata": {
        "id": "4lzava12aSCZ"
      }
    },
    {
      "cell_type": "code",
      "source": [
        "model = models.Sequential()\n",
        "model.add(layers.Dense(16, activation='relu', input_shape=(10000,)))\n",
        "model.add(layers.Dense(16, activation='relu'))\n",
        "model.add(layers.Dense(1, activation='sigmoid'))\n",
        "\n",
        "model.compile(optimizer='rmsprop', loss='binary_crossentropy', metrics=['accuracy'])"
      ],
      "metadata": {
        "id": "Q71r1y_8aU2z"
      },
      "execution_count": null,
      "outputs": []
    },
    {
      "cell_type": "markdown",
      "source": [
        "#Create a Validation Set\n",
        "We'll set aside a validation set from the training data."
      ],
      "metadata": {
        "id": "MLjJQughaW3g"
      }
    },
    {
      "cell_type": "code",
      "source": [
        "x_val = x_train[:10000]\n",
        "partial_x_train = x_train[10000:]\n",
        "y_val = y_train[:10000]\n",
        "partial_y_train = y_train[10000:]"
      ],
      "metadata": {
        "id": "FqX4Na6jaZl3"
      },
      "execution_count": null,
      "outputs": []
    },
    {
      "cell_type": "markdown",
      "source": [
        "#Initialize Early Stopping Callback\n",
        "We will use early stopping to prevent overfitting."
      ],
      "metadata": {
        "id": "itYAom3iabR0"
      }
    },
    {
      "cell_type": "code",
      "source": [
        "early_stopping_monitor = EarlyStopping(monitor='val_loss', patience=1)"
      ],
      "metadata": {
        "id": "RLft7pidafMX"
      },
      "execution_count": null,
      "outputs": []
    },
    {
      "cell_type": "markdown",
      "source": [
        "#Train the Model\n",
        "Now, we will train the model and include validation data."
      ],
      "metadata": {
        "id": "8qMGQoEtalkc"
      }
    },
    {
      "cell_type": "code",
      "source": [
        "history = model.fit(partial_x_train, partial_y_train,\n",
        "                    epochs=20,\n",
        "                    batch_size=512,\n",
        "                    validation_data=(x_val, y_val),\n",
        "                    callbacks=[early_stopping_monitor])  # Include early stopping"
      ],
      "metadata": {
        "colab": {
          "base_uri": "https://localhost:8080/"
        },
        "id": "C2HGhzvpao4L",
        "outputId": "526fe2ab-c2ac-4310-d863-19d1382dde39"
      },
      "execution_count": null,
      "outputs": [
        {
          "output_type": "stream",
          "name": "stdout",
          "text": [
            "Epoch 1/20\n",
            "30/30 [==============================] - 4s 99ms/step - loss: 0.5094 - accuracy: 0.7774 - val_loss: 0.3877 - val_accuracy: 0.8600\n",
            "Epoch 2/20\n",
            "30/30 [==============================] - 1s 36ms/step - loss: 0.3024 - accuracy: 0.8974 - val_loss: 0.3211 - val_accuracy: 0.8680\n",
            "Epoch 3/20\n",
            "30/30 [==============================] - 1s 36ms/step - loss: 0.2269 - accuracy: 0.9204 - val_loss: 0.3051 - val_accuracy: 0.8744\n",
            "Epoch 4/20\n",
            "30/30 [==============================] - 1s 38ms/step - loss: 0.1841 - accuracy: 0.9375 - val_loss: 0.2772 - val_accuracy: 0.8903\n",
            "Epoch 5/20\n",
            "30/30 [==============================] - 1s 36ms/step - loss: 0.1533 - accuracy: 0.9489 - val_loss: 0.3091 - val_accuracy: 0.8778\n"
          ]
        }
      ]
    },
    {
      "cell_type": "markdown",
      "source": [
        "#Plot Training and Validation Loss\n",
        "Let's visualize the training and validation loss."
      ],
      "metadata": {
        "id": "ZK37bsojauHG"
      }
    },
    {
      "cell_type": "code",
      "source": [
        "history_dict = history.history\n",
        "loss_values = history_dict['loss']\n",
        "val_loss_values = history_dict['val_loss']\n",
        "epochs = range(1, len(loss_values) + 1)\n",
        "\n",
        "plt.plot(epochs, loss_values, 'bo', label='Training loss')\n",
        "plt.plot(epochs, val_loss_values, 'b', label='Validation loss')\n",
        "plt.xlabel('Epochs')\n",
        "plt.ylabel('Loss')\n",
        "plt.legend()\n",
        "plt.show()"
      ],
      "metadata": {
        "colab": {
          "base_uri": "https://localhost:8080/",
          "height": 449
        },
        "id": "Ue2dvR6bayB9",
        "outputId": "69778f72-69c2-4801-804a-a6f57e17d1c0"
      },
      "execution_count": null,
      "outputs": [
        {
          "output_type": "display_data",
          "data": {
            "text/plain": [
              "<Figure size 640x480 with 1 Axes>"
            ],
            "image/png": "[encoded data removed]"
          },
          "metadata": {}
        }
      ]
    },
    {
      "cell_type": "markdown",
      "source": [
        "#Plot Training and Validation Accuracy\n",
        "Now, we will visualize the training and validation accuracy."
      ],
      "metadata": {
        "id": "WwLfjU5Vaz4B"
      }
    },
    {
      "cell_type": "code",
      "source": [
        "acc_values = history_dict['accuracy']\n",
        "val_acc_values = history_dict['val_accuracy']\n",
        "\n",
        "plt.plot(epochs, acc_values, 'bo', label='Training accuracy')\n",
        "plt.plot(epochs, val_acc_values, 'b', label='Validation accuracy')\n",
        "plt.xlabel('Epochs')\n",
        "plt.ylabel('Accuracy')\n",
        "plt.legend()\n",
        "plt.show()"
      ],
      "metadata": {
        "colab": {
          "base_uri": "https://localhost:8080/",
          "height": 449
        },
        "id": "ixkoQou4a4xu",
        "outputId": "3785fefb-8016-43b4-9573-ebf980dd0d64"
      },
      "execution_count": null,
      "outputs": [
        {
          "output_type": "display_data",
          "data": {
            "text/plain": [
              "<Figure size 640x480 with 1 Axes>"
            ],
            "image/png": "[encoded data removed]"
          },
          "metadata": {}
        }
      ]
    },
    {
      "cell_type": "markdown",
      "source": [
        "#Retrain the Model with the Complete Training Set\n",
        "Now, we will define and compile the model once more, and retrain it on the entire training set."
      ],
      "metadata": {
        "id": "3WAoRk1ma6Eg"
      }
    },
    {
      "cell_type": "code",
      "source": [
        "model = models.Sequential()\n",
        "model.add(layers.Dense(16, activation='relu', input_shape=(10000,)))\n",
        "model.add(layers.Dense(16, activation='relu'))\n",
        "model.add(layers.Dense(1, activation='sigmoid'))\n",
        "\n",
        "model.compile(optimizer='rmsprop', loss='binary_crossentropy', metrics=['accuracy'])\n",
        "model.fit(x_train, y_train, epochs=4, batch_size=512)"
      ],
      "metadata": {
        "colab": {
          "base_uri": "https://localhost:8080/"
        },
        "id": "t4Ml77G8a-WE",
        "outputId": "096a2edc-f893-4c5a-ac62-2d27129b753a"
      },
      "execution_count": null,
      "outputs": [
        {
          "output_type": "stream",
          "name": "stdout",
          "text": [
            "Epoch 1/4\n",
            "49/49 [==============================] - 2s 32ms/step - loss: 0.4908 - accuracy: 0.8114\n",
            "Epoch 2/4\n",
            "49/49 [==============================] - 2s 38ms/step - loss: 0.2948 - accuracy: 0.8993\n",
            "Epoch 3/4\n",
            "49/49 [==============================] - 1s 30ms/step - loss: 0.2270 - accuracy: 0.9196\n",
            "Epoch 4/4\n",
            "49/49 [==============================] - 1s 23ms/step - loss: 0.1929 - accuracy: 0.9309\n"
          ]
        },
        {
          "output_type": "execute_result",
          "data": {
            "text/plain": [
              "<keras.src.callbacks.History at 0x799295532d10>"
            ]
          },
          "metadata": {},
          "execution_count": 11
        }
      ]
    },
    {
      "cell_type": "markdown",
      "source": [
        "#Evaluate the Model on the Test Set\n",
        "Finally, we evaluate the model's performance on the test set.\n",
        "\n"
      ],
      "metadata": {
        "id": "DRE3CsNAa_gj"
      }
    },
    {
      "cell_type": "code",
      "source": [
        "results = model.evaluate(x_test, y_test)\n",
        "print(\"Test Loss, Test Accuracy:\", results)"
      ],
      "metadata": {
        "colab": {
          "base_uri": "https://localhost:8080/"
        },
        "id": "fTrJRnXPbDfm",
        "outputId": "c800ae85-b0ec-4e35-f81d-052f93d86105"
      },
      "execution_count": null,
      "outputs": [
        {
          "output_type": "stream",
          "name": "stdout",
          "text": [
            "782/782 [==============================] - 3s 4ms/step - loss: 0.2796 - accuracy: 0.8880\n",
            "Test Loss, Test Accuracy: [0.27958786487579346, 0.8880400061607361]\n"
          ]
        }
      ]
    }
  ]
}